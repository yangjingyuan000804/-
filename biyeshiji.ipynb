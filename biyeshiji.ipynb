{
  "cells": [
    {
      "cell_type": "markdown",
      "metadata": {
        "id": "view-in-github",
        "colab_type": "text"
      },
      "source": [
        "<a href=\"https://colab.research.google.com/github/yangjingyuan000804/-/blob/master/biyeshiji.ipynb\" target=\"_parent\"><img src=\"https://colab.research.google.com/assets/colab-badge.svg\" alt=\"Open In Colab\"/></a>"
      ]
    },
    {
      "cell_type": "code",
      "execution_count": 1,
      "metadata": {
        "colab": {
          "base_uri": "https://localhost:8080/"
        },
        "id": "LLT2nufmKaPY",
        "outputId": "6b1b9701-fc01-4cd2-904e-db395ea9aaec"
      },
      "outputs": [
        {
          "output_type": "stream",
          "name": "stdout",
          "text": [
            "Cloning into 'deeplabv3-plus-pytorch'...\n",
            "remote: Enumerating objects: 293, done.\u001b[K\n",
            "remote: Counting objects: 100% (18/18), done.\u001b[K\n",
            "remote: Compressing objects: 100% (15/15), done.\u001b[K\n",
            "remote: Total 293 (delta 7), reused 13 (delta 3), pack-reused 275\u001b[K\n",
            "Receiving objects: 100% (293/293), 42.05 MiB | 29.00 MiB/s, done.\n",
            "Resolving deltas: 100% (169/169), done.\n"
          ]
        }
      ],
      "source": [
        "!git clone https://github.com/bubbliiiing/deeplabv3-plus-pytorch.git"
      ]
    },
    {
      "cell_type": "code",
      "execution_count": null,
      "metadata": {
        "id": "0QDWfbUcv3Tv"
      },
      "outputs": [],
      "source": [
        "!cp /content/drive/MyDrive/Colab_Notebooks/VOC-Dataset/VOCdevkit.zip ./\n",
        "!unzip ./VOCdevkit.zip -d ./\n"
      ]
    },
    {
      "cell_type": "code",
      "execution_count": null,
      "metadata": {
        "id": "_DkcxQv5zN3v"
      },
      "outputs": [],
      "source": [
        "!rm -rf logs\n",
        "!ln -s /content/drive/MyDrive/Colab_Notebooks/Models/logs logs\n"
      ]
    },
    {
      "cell_type": "code",
      "execution_count": 8,
      "metadata": {
        "colab": {
          "base_uri": "https://localhost:8080/"
        },
        "id": "gasA8cL3z3sb",
        "outputId": "a43cd9b5-0222-4658-ce9a-9e762cf39445"
      },
      "outputs": [
        {
          "output_type": "stream",
          "name": "stdout",
          "text": [
            "initialize network with normal type\n",
            "Load weights /content/drive/MyDrive/Colab_Notebooks/Models/model_data/deeplab_mobilenetv2.pth.\n",
            "\n",
            "Successful Load Key: ['backbone.features.0.0.weight', 'backbone.features.0.1.weight', 'backbone.features.0.1.bias', 'backbone.features.0.1.running_mean', 'backbone.features.0.1.running_var', 'backbone.features.0.1.num_batches_tracked', 'backbone.features.1.conv.0.weight', 'backbone.features.1.conv.1.weight', 'backbone.features.1.conv.1.bias', 'backbone.features.1.conv.1.running_mean', 'backbone.features.1.conv.1.running_var', 'backbone.features.1.conv.1.num_batches_tracked', 'backbone.features.1.conv.3.weight', 'bac ……\n",
            "Successful Load Key Num: 369\n",
            "\n",
            "Fail To Load Key: ['cls_conv.weight', 'cls_conv.bias'] ……\n",
            "Fail To Load Key num: 2\n",
            "\n",
            "\u001b[1;33;44m温馨提示，head部分没有载入是正常现象，Backbone部分没有载入是错误的。\u001b[0m\n",
            "Traceback (most recent call last):\n",
            "  File \"train.py\", line 300, in <module>\n",
            "    loss_history = LossHistory(save_dir, model, input_shape=input_shape)\n",
            "  File \"/content/deeplabv3-plus-pytorch/utils/callbacks.py\", line 19, in __init__\n",
            "    os.makedirs(self.log_dir)\n",
            "  File \"/usr/lib/python3.7/os.py\", line 223, in makedirs\n",
            "    mkdir(name, mode)\n",
            "FileNotFoundError: [Errno 2] No such file or directory: 'logs/loss_2022_05_06_10_53_06'\n"
          ]
        }
      ],
      "source": [
        "!python train.py\n"
      ]
    },
    {
      "cell_type": "code",
      "execution_count": 3,
      "metadata": {
        "id": "CT3-L-pjxkmD"
      },
      "outputs": [],
      "source": [
        "!rm -rf ./VOCdevkit"
      ]
    },
    {
      "cell_type": "code",
      "execution_count": null,
      "metadata": {
        "id": "TGf8NPzcxsIg"
      },
      "outputs": [],
      "source": [
        "!cd deeplabv3-plus-pytorch/"
      ]
    },
    {
      "cell_type": "code",
      "execution_count": 2,
      "metadata": {
        "colab": {
          "base_uri": "https://localhost:8080/"
        },
        "id": "68ftYuRSbXWS",
        "outputId": "f07a931c-3ffc-4faf-b3c8-a1939373895c"
      },
      "outputs": [
        {
          "output_type": "stream",
          "name": "stdout",
          "text": [
            "/content/deeplabv3-plus-pytorch\n"
          ]
        }
      ],
      "source": [
        "\n",
        "%cd deeplabv3-plus-pytorch/\n"
      ]
    },
    {
      "cell_type": "code",
      "execution_count": 7,
      "metadata": {
        "id": "ppIhULYdcHI2"
      },
      "outputs": [],
      "source": [
        "!rm -rf ./logs\n",
        "!ln -s /content/drive/MyDrive/Colab_Notebooks/logs logs\n"
      ]
    },
    {
      "cell_type": "code",
      "execution_count": null,
      "metadata": {
        "id": "tZh1EzA0ddTt"
      },
      "outputs": [],
      "source": [
        "!mkdir /content/deeplabv3-plus-pytorch/logs"
      ]
    }
  ],
  "metadata": {
    "accelerator": "GPU",
    "colab": {
      "name": "biyeshiji.ipynb",
      "provenance": [],
      "collapsed_sections": [],
      "mount_file_id": "1RajDYT1LAYpVMFgUHC0MAeUa1NqKrWkP",
      "authorship_tag": "ABX9TyPA7IvFtsWd9n0XDIk7t/Au",
      "include_colab_link": true
    },
    "kernelspec": {
      "display_name": "Python 3",
      "name": "python3"
    },
    "language_info": {
      "name": "python"
    }
  },
  "nbformat": 4,
  "nbformat_minor": 0
}