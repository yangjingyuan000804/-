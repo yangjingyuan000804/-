{
  "cells": [
    {
      "cell_type": "markdown",
      "metadata": {
        "id": "view-in-github",
        "colab_type": "text"
      },
      "source": [
        "<a href=\"https://colab.research.google.com/github/yangjingyuan000804/-/blob/master/biyeshiji.ipynb\" target=\"_parent\"><img src=\"https://colab.research.google.com/assets/colab-badge.svg\" alt=\"Open In Colab\"/></a>"
      ]
    },
    {
      "cell_type": "code",
      "execution_count": null,
      "metadata": {
        "colab": {
          "base_uri": "https://localhost:8080/"
        },
        "id": "LLT2nufmKaPY",
        "outputId": "6b1b9701-fc01-4cd2-904e-db395ea9aaec"
      },
      "outputs": [
        {
          "output_type": "stream",
          "name": "stdout",
          "text": [
            "Cloning into 'deeplabv3-plus-pytorch'...\n",
            "remote: Enumerating objects: 293, done.\u001b[K\n",
            "remote: Counting objects: 100% (18/18), done.\u001b[K\n",
            "remote: Compressing objects: 100% (15/15), done.\u001b[K\n",
            "remote: Total 293 (delta 7), reused 13 (delta 3), pack-reused 275\u001b[K\n",
            "Receiving objects: 100% (293/293), 42.05 MiB | 29.00 MiB/s, done.\n",
            "Resolving deltas: 100% (169/169), done.\n"
          ]
        }
      ],
      "source": [
        "!git clone https://github.com/bubbliiiing/deeplabv3-plus-pytorch.git"
      ]
    },
    {
      "cell_type": "code",
      "execution_count": null,
      "metadata": {
        "id": "0QDWfbUcv3Tv"
      },
      "outputs": [],
      "source": [
        "!cp /content/drive/MyDrive/Colab_Notebooks/VOC-Dataset/VOCdevkit.zip ./\n",
        "!unzip ./VOCdevkit.zip -d ./\n"
      ]
    },
    {
      "cell_type": "code",
      "execution_count": null,
      "metadata": {
        "id": "_DkcxQv5zN3v"
      },
      "outputs": [],
      "source": [
        "!rm -rf logs\n",
        "!ln -s /content/drive/MyDrive/Colab_Notebooks/Models/logs logs\n"
      ]
    },
    {
      "cell_type": "code",
      "execution_count": 13,
      "metadata": {
        "colab": {
          "base_uri": "https://localhost:8080/"
        },
        "id": "gasA8cL3z3sb",
        "outputId": "ba533827-501e-4d08-aeea-59b531c22324"
      },
      "outputs": [
        {
          "output_type": "stream",
          "name": "stdout",
          "text": [
            "initialize network with normal type\n",
            "Load weights /content/drive/MyDrive/Colab_Notebooks/Models/model_data/deeplab_mobilenetv2.pth.\n",
            "\n",
            "Successful Load Key: ['backbone.features.0.0.weight', 'backbone.features.0.1.weight', 'backbone.features.0.1.bias', 'backbone.features.0.1.running_mean', 'backbone.features.0.1.running_var', 'backbone.features.0.1.num_batches_tracked', 'backbone.features.1.conv.0.weight', 'backbone.features.1.conv.1.weight', 'backbone.features.1.conv.1.bias', 'backbone.features.1.conv.1.running_mean', 'backbone.features.1.conv.1.running_var', 'backbone.features.1.conv.1.num_batches_tracked', 'backbone.features.1.conv.3.weight', 'bac ……\n",
            "Successful Load Key Num: 369\n",
            "\n",
            "Fail To Load Key: ['cls_conv.weight', 'cls_conv.bias'] ……\n",
            "Fail To Load Key num: 2\n",
            "\n",
            "\u001b[1;33;44m温馨提示，head部分没有载入是正常现象，Backbone部分没有载入是错误的。\u001b[0m\n",
            "Configurations:\n",
            "----------------------------------------------------------------------\n",
            "|                     keys |                                   values|\n",
            "----------------------------------------------------------------------\n",
            "|              num_classes |                                        2|\n",
            "|                 backbone |                                mobilenet|\n",
            "|               model_path | /content/drive/MyDrive/Colab_Notebooks/Models/model_data/deeplab_mobilenetv2.pth|\n",
            "|              input_shape |                               [512, 512]|\n",
            "|               Init_Epoch |                                        0|\n",
            "|             Freeze_Epoch |                                       50|\n",
            "|           UnFreeze_Epoch |                                      100|\n",
            "|        Freeze_batch_size |                                        8|\n",
            "|      Unfreeze_batch_size |                                        4|\n",
            "|             Freeze_Train |                                     True|\n",
            "|                  Init_lr |                                    0.007|\n",
            "|                   Min_lr |                    7.000000000000001e-05|\n",
            "|           optimizer_type |                                      sgd|\n",
            "|                 momentum |                                      0.9|\n",
            "|            lr_decay_type |                                      cos|\n",
            "|              save_period |                                        5|\n",
            "|                 save_dir |                                     logs|\n",
            "|              num_workers |                                        4|\n",
            "|                num_train |                                     5603|\n",
            "|                  num_val |                                      623|\n",
            "----------------------------------------------------------------------\n",
            "/usr/local/lib/python3.7/dist-packages/torch/utils/data/dataloader.py:490: UserWarning: This DataLoader will create 4 worker processes in total. Our suggested max number of worker in current system is 2, which is smaller than what this DataLoader is going to create. Please be aware that excessive worker creation might get DataLoader running slow or even freeze, lower the worker number to avoid potential slowness/freeze if necessary.\n",
            "  cpuset_checked))\n",
            "Start Train\n",
            "Epoch 1/100: 100% 700/700 [08:29<00:00,  1.37it/s, f_score=0.976, lr=0.00035, total_loss=0.0472]\n",
            "Finish Train\n",
            "Start Validation\n",
            "Epoch 1/100: 100% 77/77 [00:47<00:00,  1.62it/s, f_score=0.99, lr=0.00035, val_loss=0.00774]\n",
            "Finish Validation\n",
            "Epoch:1/100\n",
            "Total Loss: 0.047 || Val Loss: 0.008 \n",
            "Save best model to best_epoch_weights.pth\n",
            "Start Train\n",
            "Epoch 2/100: 100% 700/700 [08:25<00:00,  1.38it/s, f_score=0.992, lr=0.0007, total_loss=0.0045]\n",
            "Finish Train\n",
            "Start Validation\n",
            "Epoch 2/100: 100% 77/77 [00:48<00:00,  1.60it/s, f_score=0.99, lr=0.0007, val_loss=0.0025]\n",
            "Finish Validation\n",
            "Epoch:2/100\n",
            "Total Loss: 0.005 || Val Loss: 0.003 \n",
            "Save best model to best_epoch_weights.pth\n",
            "Start Train\n",
            "Epoch 3/100: 100% 700/700 [08:31<00:00,  1.37it/s, f_score=0.992, lr=0.00175, total_loss=0.0016]\n",
            "Finish Train\n",
            "Start Validation\n",
            "Epoch 3/100: 100% 77/77 [00:48<00:00,  1.57it/s, f_score=0.99, lr=0.00175, val_loss=0.000937]\n",
            "Finish Validation\n",
            "Epoch:3/100\n",
            "Total Loss: 0.002 || Val Loss: 0.001 \n",
            "Save best model to best_epoch_weights.pth\n",
            "Start Train\n",
            "Epoch 4/100: 100% 700/700 [08:30<00:00,  1.37it/s, f_score=0.992, lr=0.0035, total_loss=0.000661]\n",
            "Finish Train\n",
            "Start Validation\n",
            "Epoch 4/100: 100% 77/77 [00:48<00:00,  1.58it/s, f_score=0.99, lr=0.0035, val_loss=0.000438]\n",
            "Finish Validation\n",
            "Epoch:4/100\n",
            "Total Loss: 0.001 || Val Loss: 0.000 \n",
            "Save best model to best_epoch_weights.pth\n",
            "Start Train\n",
            "Epoch 5/100: 100% 700/700 [08:28<00:00,  1.38it/s, f_score=0.993, lr=0.0035, total_loss=0.000366]\n",
            "Finish Train\n",
            "Start Validation\n",
            "Epoch 5/100: 100% 77/77 [00:47<00:00,  1.62it/s, f_score=0.99, lr=0.0035, val_loss=0.000266]\n",
            "Finish Validation\n",
            "Epoch:5/100\n",
            "Total Loss: 0.000 || Val Loss: 0.000 \n",
            "Save best model to best_epoch_weights.pth\n",
            "Start Train\n",
            "Epoch 6/100:   0% 0/700 [00:00<?, ?it/s<class 'dict'>]/usr/local/lib/python3.7/dist-packages/torch/utils/data/dataloader.py:490: UserWarning: This DataLoader will create 4 worker processes in total. Our suggested max number of worker in current system is 2, which is smaller than what this DataLoader is going to create. Please be aware that excessive worker creation might get DataLoader running slow or even freeze, lower the worker number to avoid potential slowness/freeze if necessary.\n",
            "  cpuset_checked))\n",
            "Epoch 6/100: 100% 700/700 [08:32<00:00,  1.37it/s, f_score=0.992, lr=0.00349, total_loss=0.000259]\n",
            "Finish Train\n",
            "Start Validation\n",
            "Epoch 6/100: 100% 77/77 [00:47<00:00,  1.63it/s, f_score=0.99, lr=0.00349, val_loss=0.000205]\n",
            "Finish Validation\n",
            "Epoch:6/100\n",
            "Total Loss: 0.000 || Val Loss: 0.000 \n",
            "Save best model to best_epoch_weights.pth\n",
            "Start Train\n",
            "Epoch 7/100:   0% 0/700 [00:00<?, ?it/s<class 'dict'>]/usr/local/lib/python3.7/dist-packages/torch/utils/data/dataloader.py:490: UserWarning: This DataLoader will create 4 worker processes in total. Our suggested max number of worker in current system is 2, which is smaller than what this DataLoader is going to create. Please be aware that excessive worker creation might get DataLoader running slow or even freeze, lower the worker number to avoid potential slowness/freeze if necessary.\n",
            "  cpuset_checked))\n",
            "Epoch 7/100: 100% 700/700 [08:24<00:00,  1.39it/s, f_score=0.992, lr=0.00349, total_loss=0.000202]\n",
            "Finish Train\n",
            "Start Validation\n",
            "Epoch 7/100: 100% 77/77 [00:47<00:00,  1.62it/s, f_score=0.99, lr=0.00349, val_loss=0.000161]\n",
            "Finish Validation\n",
            "Epoch:7/100\n",
            "Total Loss: 0.000 || Val Loss: 0.000 \n",
            "Save best model to best_epoch_weights.pth\n",
            "Start Train\n",
            "Epoch 8/100:   0% 0/700 [00:00<?, ?it/s<class 'dict'>]/usr/local/lib/python3.7/dist-packages/torch/utils/data/dataloader.py:490: UserWarning: This DataLoader will create 4 worker processes in total. Our suggested max number of worker in current system is 2, which is smaller than what this DataLoader is going to create. Please be aware that excessive worker creation might get DataLoader running slow or even freeze, lower the worker number to avoid potential slowness/freeze if necessary.\n",
            "  cpuset_checked))\n",
            "Epoch 8/100: 100% 700/700 [08:21<00:00,  1.40it/s, f_score=0.992, lr=0.00348, total_loss=0.000166]\n",
            "Finish Train\n",
            "Start Validation\n",
            "Epoch 8/100: 100% 77/77 [00:46<00:00,  1.65it/s, f_score=0.99, lr=0.00348, val_loss=0.000141]\n",
            "Finish Validation\n",
            "Epoch:8/100\n",
            "Total Loss: 0.000 || Val Loss: 0.000 \n",
            "Save best model to best_epoch_weights.pth\n",
            "Start Train\n",
            "Epoch 9/100:   0% 0/700 [00:00<?, ?it/s<class 'dict'>]/usr/local/lib/python3.7/dist-packages/torch/utils/data/dataloader.py:490: UserWarning: This DataLoader will create 4 worker processes in total. Our suggested max number of worker in current system is 2, which is smaller than what this DataLoader is going to create. Please be aware that excessive worker creation might get DataLoader running slow or even freeze, lower the worker number to avoid potential slowness/freeze if necessary.\n",
            "  cpuset_checked))\n",
            "Epoch 9/100: 100% 700/700 [08:23<00:00,  1.39it/s, f_score=0.992, lr=0.00347, total_loss=0.000143]\n",
            "Finish Train\n",
            "Start Validation\n",
            "Epoch 9/100: 100% 77/77 [00:47<00:00,  1.64it/s, f_score=0.99, lr=0.00347, val_loss=0.000126]\n",
            "Finish Validation\n",
            "Epoch:9/100\n",
            "Total Loss: 0.000 || Val Loss: 0.000 \n",
            "Save best model to best_epoch_weights.pth\n",
            "Start Train\n",
            "Epoch 10/100:   0% 0/700 [00:00<?, ?it/s<class 'dict'>]/usr/local/lib/python3.7/dist-packages/torch/utils/data/dataloader.py:490: UserWarning: This DataLoader will create 4 worker processes in total. Our suggested max number of worker in current system is 2, which is smaller than what this DataLoader is going to create. Please be aware that excessive worker creation might get DataLoader running slow or even freeze, lower the worker number to avoid potential slowness/freeze if necessary.\n",
            "  cpuset_checked))\n",
            "Epoch 10/100: 100% 700/700 [08:18<00:00,  1.41it/s, f_score=0.992, lr=0.00345, total_loss=0.000126]\n",
            "Finish Train\n",
            "Start Validation\n",
            "Epoch 10/100: 100% 77/77 [00:47<00:00,  1.64it/s, f_score=0.99, lr=0.00345, val_loss=0.000108]\n",
            "Finish Validation\n",
            "Epoch:10/100\n",
            "Total Loss: 0.000 || Val Loss: 0.000 \n",
            "Save best model to best_epoch_weights.pth\n",
            "Start Train\n",
            "Epoch 11/100:   0% 0/700 [00:00<?, ?it/s<class 'dict'>]/usr/local/lib/python3.7/dist-packages/torch/utils/data/dataloader.py:490: UserWarning: This DataLoader will create 4 worker processes in total. Our suggested max number of worker in current system is 2, which is smaller than what this DataLoader is going to create. Please be aware that excessive worker creation might get DataLoader running slow or even freeze, lower the worker number to avoid potential slowness/freeze if necessary.\n",
            "  cpuset_checked))\n",
            "Epoch 11/100: 100% 700/700 [08:22<00:00,  1.39it/s, f_score=0.992, lr=0.00344, total_loss=0.000114]\n",
            "Finish Train\n",
            "Start Validation\n",
            "Epoch 11/100: 100% 77/77 [00:46<00:00,  1.64it/s, f_score=0.99, lr=0.00344, val_loss=9.78e-5]\n",
            "Finish Validation\n",
            "Epoch:11/100\n",
            "Total Loss: 0.000 || Val Loss: 0.000 \n",
            "Save best model to best_epoch_weights.pth\n",
            "Start Train\n",
            "Epoch 12/100:   0% 0/700 [00:00<?, ?it/s<class 'dict'>]/usr/local/lib/python3.7/dist-packages/torch/utils/data/dataloader.py:490: UserWarning: This DataLoader will create 4 worker processes in total. Our suggested max number of worker in current system is 2, which is smaller than what this DataLoader is going to create. Please be aware that excessive worker creation might get DataLoader running slow or even freeze, lower the worker number to avoid potential slowness/freeze if necessary.\n",
            "  cpuset_checked))\n",
            "Epoch 12/100: 100% 700/700 [08:18<00:00,  1.40it/s, f_score=0.992, lr=0.00342, total_loss=0.000104]\n",
            "Finish Train\n",
            "Start Validation\n",
            "Epoch 12/100: 100% 77/77 [00:47<00:00,  1.61it/s, f_score=0.99, lr=0.00342, val_loss=9.36e-5]\n",
            "Finish Validation\n",
            "Epoch:12/100\n",
            "Total Loss: 0.000 || Val Loss: 0.000 \n",
            "Save best model to best_epoch_weights.pth\n",
            "Start Train\n",
            "Epoch 13/100:   0% 0/700 [00:00<?, ?it/s<class 'dict'>]/usr/local/lib/python3.7/dist-packages/torch/utils/data/dataloader.py:490: UserWarning: This DataLoader will create 4 worker processes in total. Our suggested max number of worker in current system is 2, which is smaller than what this DataLoader is going to create. Please be aware that excessive worker creation might get DataLoader running slow or even freeze, lower the worker number to avoid potential slowness/freeze if necessary.\n",
            "  cpuset_checked))\n",
            "Epoch 13/100: 100% 700/700 [08:36<00:00,  1.36it/s, f_score=0.992, lr=0.0034, total_loss=9.59e-5]\n",
            "Finish Train\n",
            "Start Validation\n",
            "Epoch 13/100: 100% 77/77 [00:50<00:00,  1.52it/s, f_score=0.99, lr=0.0034, val_loss=8.54e-5]\n",
            "Finish Validation\n",
            "Epoch:13/100\n",
            "Total Loss: 0.000 || Val Loss: 0.000 \n",
            "Save best model to best_epoch_weights.pth\n",
            "Start Train\n",
            "Epoch 14/100:   0% 0/700 [00:00<?, ?it/s<class 'dict'>]/usr/local/lib/python3.7/dist-packages/torch/utils/data/dataloader.py:490: UserWarning: This DataLoader will create 4 worker processes in total. Our suggested max number of worker in current system is 2, which is smaller than what this DataLoader is going to create. Please be aware that excessive worker creation might get DataLoader running slow or even freeze, lower the worker number to avoid potential slowness/freeze if necessary.\n",
            "  cpuset_checked))\n",
            "Epoch 14/100: 100% 700/700 [08:54<00:00,  1.31it/s, f_score=0.992, lr=0.00337, total_loss=8.94e-5]\n",
            "Finish Train\n",
            "Start Validation\n",
            "Epoch 14/100: 100% 77/77 [00:50<00:00,  1.53it/s, f_score=0.99, lr=0.00337, val_loss=7.84e-5]\n",
            "Finish Validation\n",
            "Epoch:14/100\n",
            "Total Loss: 0.000 || Val Loss: 0.000 \n",
            "Save best model to best_epoch_weights.pth\n",
            "Start Train\n",
            "Epoch 15/100:   0% 0/700 [00:00<?, ?it/s<class 'dict'>]/usr/local/lib/python3.7/dist-packages/torch/utils/data/dataloader.py:490: UserWarning: This DataLoader will create 4 worker processes in total. Our suggested max number of worker in current system is 2, which is smaller than what this DataLoader is going to create. Please be aware that excessive worker creation might get DataLoader running slow or even freeze, lower the worker number to avoid potential slowness/freeze if necessary.\n",
            "  cpuset_checked))\n",
            "Epoch 15/100: 100% 700/700 [08:27<00:00,  1.38it/s, f_score=0.992, lr=0.00335, total_loss=8.4e-5]\n",
            "Finish Train\n",
            "Start Validation\n",
            "Epoch 15/100: 100% 77/77 [00:46<00:00,  1.64it/s, f_score=0.99, lr=0.00335, val_loss=7.36e-5]\n",
            "Finish Validation\n",
            "Epoch:15/100\n",
            "Total Loss: 0.000 || Val Loss: 0.000 \n",
            "Save best model to best_epoch_weights.pth\n",
            "Start Train\n",
            "Epoch 16/100:   0% 0/700 [00:00<?, ?it/s<class 'dict'>]/usr/local/lib/python3.7/dist-packages/torch/utils/data/dataloader.py:490: UserWarning: This DataLoader will create 4 worker processes in total. Our suggested max number of worker in current system is 2, which is smaller than what this DataLoader is going to create. Please be aware that excessive worker creation might get DataLoader running slow or even freeze, lower the worker number to avoid potential slowness/freeze if necessary.\n",
            "  cpuset_checked))\n",
            "Epoch 16/100:  81% 568/700 [06:52<01:31,  1.45it/s, f_score=0.992, lr=0.00332, total_loss=8.03e-5]Exception ignored in: <function _MultiProcessingDataLoaderIter.__del__ at 0x7fc637e0ccb0>\n",
            "Traceback (most recent call last):\n",
            "  File \"/usr/local/lib/python3.7/dist-packages/torch/utils/data/dataloader.py\", line 1358, in __del__\n",
            "    self._shutdown_workers()\n",
            "  File \"/usr/local/lib/python3.7/dist-packages/torch/utils/data/dataloader.py\", line 1322, in _shutdown_workers\n",
            "    w.join(timeout=_utils.MP_STATUS_CHECK_INTERVAL)\n",
            "  File \"/usr/lib/python3.7/multiprocessing/process.py\", line 140, in join\n",
            "^C\n"
          ]
        }
      ],
      "source": [
        "!python train.py\n"
      ]
    },
    {
      "cell_type": "code",
      "source": [
        ""
      ],
      "metadata": {
        "id": "YcSFqxV9ntDY"
      },
      "execution_count": null,
      "outputs": []
    },
    {
      "cell_type": "code",
      "source": [
        ""
      ],
      "metadata": {
        "id": "z4Hvr-xsntE7"
      },
      "execution_count": null,
      "outputs": []
    },
    {
      "cell_type": "code",
      "source": [
        ""
      ],
      "metadata": {
        "id": "Lcv9XlYSnr5N"
      },
      "execution_count": null,
      "outputs": []
    },
    {
      "cell_type": "code",
      "execution_count": null,
      "metadata": {
        "id": "CT3-L-pjxkmD"
      },
      "outputs": [],
      "source": [
        "!rm -rf ./VOCdevkit"
      ]
    },
    {
      "cell_type": "code",
      "execution_count": null,
      "metadata": {
        "id": "TGf8NPzcxsIg"
      },
      "outputs": [],
      "source": [
        "!cd deeplabv3-plus-pytorch/"
      ]
    },
    {
      "cell_type": "code",
      "execution_count": null,
      "metadata": {
        "colab": {
          "base_uri": "https://localhost:8080/"
        },
        "id": "68ftYuRSbXWS",
        "outputId": "f07a931c-3ffc-4faf-b3c8-a1939373895c"
      },
      "outputs": [
        {
          "output_type": "stream",
          "name": "stdout",
          "text": [
            "/content/deeplabv3-plus-pytorch\n"
          ]
        }
      ],
      "source": [
        "\n",
        "%cd deeplabv3-plus-pytorch/\n"
      ]
    },
    {
      "cell_type": "code",
      "execution_count": null,
      "metadata": {
        "id": "ppIhULYdcHI2"
      },
      "outputs": [],
      "source": [
        "!rm -rf ./logs\n",
        "!ln -s /content/drive/MyDrive/Colab_Notebooks/logs logs\n"
      ]
    },
    {
      "cell_type": "code",
      "source": [
        "!rm -rf ./logs"
      ],
      "metadata": {
        "id": "l3VPAkxhDLvh"
      },
      "execution_count": 10,
      "outputs": []
    },
    {
      "cell_type": "code",
      "source": [
        "!mkdir ./logs"
      ],
      "metadata": {
        "id": "DSkCGITmDUgd"
      },
      "execution_count": 11,
      "outputs": []
    },
    {
      "cell_type": "code",
      "execution_count": null,
      "metadata": {
        "id": "tZh1EzA0ddTt"
      },
      "outputs": [],
      "source": [
        "!mkdir /content/deeplabv3-plus-pytorch/logs"
      ]
    }
  ],
  "metadata": {
    "accelerator": "GPU",
    "colab": {
      "name": "biyeshiji.ipynb",
      "provenance": [],
      "collapsed_sections": [],
      "mount_file_id": "1RajDYT1LAYpVMFgUHC0MAeUa1NqKrWkP",
      "authorship_tag": "ABX9TyOyhx6JwtniAFDrH+hOK+JD",
      "include_colab_link": true
    },
    "kernelspec": {
      "display_name": "Python 3",
      "name": "python3"
    },
    "language_info": {
      "name": "python"
    }
  },
  "nbformat": 4,
  "nbformat_minor": 0
}